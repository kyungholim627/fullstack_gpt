{
 "cells": [
  {
   "cell_type": "code",
   "execution_count": 8,
   "metadata": {},
   "outputs": [],
   "source": [
    "from langchain.chat_models import ChatOpenAI\n",
    "from langchain.prompts import ChatPromptTemplate\n",
    "from langchain.callbacks import StreamingStdOutCallbackHandler\n",
    "\n",
    "chat = ChatOpenAI(temperature = 0.1, streaming=True, callbacks=[StreamingStdOutCallbackHandler()])\n",
    "\n",
    "chef_prompt = ChatPromptTemplate.from_messages([\n",
    "    (\"system\", \"You are a world-class international chef. You create an easy-to-follow recipies for any type of cuisine with easy to find ingredients\"),\n",
    "    (\"human\", \"I want to cook {cuisine} food.\")\n",
    "])\n",
    "\n",
    "chef_chain = chef_prompt | chat\n",
    "\n"
   ]
  },
  {
   "cell_type": "code",
   "execution_count": 9,
   "metadata": {},
   "outputs": [
    {
     "name": "stdout",
     "output_type": "stream",
     "text": [
      "Great choice! Here's a simple recipe for Chicken Tikka Masala, a popular Indian dish:\n",
      "\n",
      "Ingredients:\n",
      "- 1 lb boneless, skinless chicken breasts, cut into bite-sized pieces\n",
      "- 1 cup plain yogurt\n",
      "- 2 tablespoons lemon juice\n",
      "- 2 teaspoons ground cumin\n",
      "- 2 teaspoons paprika\n",
      "- 1 teaspoon ground turmeric\n",
      "- 1 teaspoon ground coriander\n",
      "- 1 teaspoon garam masala\n",
      "- 1 teaspoon chili powder (adjust to taste)\n",
      "- Salt and pepper to taste\n",
      "- 2 tablespoons vegetable oil\n",
      "- 1 onion, finely chopped\n",
      "- 3 cloves garlic, minced\n",
      "- 1-inch piece of ginger, grated\n",
      "- 1 can (14 oz) crushed tomatoes\n",
      "- 1 cup heavy cream\n",
      "- Fresh cilantro, chopped (for garnish)\n",
      "\n",
      "Instructions:\n",
      "1. In a bowl, mix together the yogurt, lemon juice, cumin, paprika, turmeric, coriander, garam masala, chili powder, salt, and pepper. Add the chicken pieces and coat them well with the marinade. Cover and refrigerate for at least 1 hour, or overnight for best results.\n",
      "\n",
      "2. In a large skillet, heat the vegetable oil over medium heat. Add the chopped onion and cook until softened, about 5 minutes. Add the garlic and ginger, and cook for another minute until fragrant.\n",
      "\n",
      "3. Add the marinated chicken pieces to the skillet, along with any remaining marinade. Cook for about 5-7 minutes, stirring occasionally, until the chicken is browned on all sides.\n",
      "\n",
      "4. Stir in the crushed tomatoes and bring the mixture to a simmer. Cover and cook for about 15-20 minutes, or until the chicken is cooked through.\n",
      "\n",
      "5. Stir in the heavy cream and simmer for an additional 5 minutes, stirring occasionally.\n",
      "\n",
      "6. Taste and adjust seasoning if needed. Serve the Chicken Tikka Masala over steamed rice or with naan bread. Garnish with chopped cilantro before serving.\n",
      "\n",
      "Enjoy your homemade Chicken Tikka Masala!To make this Chicken Tikka Masala recipe vegetarian, we can replace the chicken with a suitable alternative. Here's how you can modify the recipe:\n",
      "\n",
      "**Vegetarian Chicken Tikka Masala**\n",
      "\n",
      "**Ingredients:**\n",
      "- 1 lb vegetarian chicken substitute (such as soy curls, seitan, or tofu), cut into bite-sized pieces\n",
      "- 1 cup plain yogurt (you can use dairy-free yogurt if preferred)\n",
      "- 2 tablespoons lemon juice\n",
      "- 2 teaspoons ground cumin\n",
      "- 2 teaspoons paprika\n",
      "- 1 teaspoon ground turmeric\n",
      "- 1 teaspoon ground coriander\n",
      "- 1 teaspoon garam masala\n",
      "- 1 teaspoon chili powder (adjust to taste)\n",
      "- Salt and pepper to taste\n",
      "- 2 tablespoons vegetable oil\n",
      "- 1 onion, finely chopped\n",
      "- 3 cloves garlic, minced\n",
      "- 1-inch piece of ginger, grated\n",
      "- 1 can (14 oz) crushed tomatoes\n",
      "- 1 cup heavy cream (you can use coconut cream or cashew cream for a dairy-free option)\n",
      "- Fresh cilantro, chopped (for garnish)\n",
      "\n",
      "**Instructions:**\n",
      "1. In a bowl, mix together the yogurt, lemon juice, cumin, paprika, turmeric, coriander, garam masala, chili powder, salt, and pepper. Add the vegetarian chicken pieces and coat them well with the marinade. Cover and refrigerate for at least 1 hour, or overnight for best results.\n",
      "\n",
      "2. In a large skillet, heat the vegetable oil over medium heat. Add the chopped onion and cook until softened, about 5 minutes. Add the garlic and ginger, and cook for another minute until fragrant.\n",
      "\n",
      "3. Add the marinated vegetarian chicken pieces to the skillet, along with any remaining marinade. Cook for about 5-7 minutes, stirring occasionally, until the \"chicken\" is browned on all sides.\n",
      "\n",
      "4. Stir in the crushed tomatoes and bring the mixture to a simmer. Cover and cook for about 15-20 minutes, or until the \"chicken\" is cooked through.\n",
      "\n",
      "5. Stir in the heavy cream (or dairy-free alternative) and simmer for an additional 5 minutes, stirring occasionally.\n",
      "\n",
      "6. Taste and adjust seasoning if needed. Serve the Vegetarian Chicken Tikka Masala over steamed rice or with naan bread. Garnish with chopped cilantro before serving.\n",
      "\n",
      "Enjoy your flavorful Vegetarian Chicken Tikka Masala!"
     ]
    },
    {
     "data": {
      "text/plain": [
       "AIMessage(content='To make this Chicken Tikka Masala recipe vegetarian, we can replace the chicken with a suitable alternative. Here\\'s how you can modify the recipe:\\n\\n**Vegetarian Chicken Tikka Masala**\\n\\n**Ingredients:**\\n- 1 lb vegetarian chicken substitute (such as soy curls, seitan, or tofu), cut into bite-sized pieces\\n- 1 cup plain yogurt (you can use dairy-free yogurt if preferred)\\n- 2 tablespoons lemon juice\\n- 2 teaspoons ground cumin\\n- 2 teaspoons paprika\\n- 1 teaspoon ground turmeric\\n- 1 teaspoon ground coriander\\n- 1 teaspoon garam masala\\n- 1 teaspoon chili powder (adjust to taste)\\n- Salt and pepper to taste\\n- 2 tablespoons vegetable oil\\n- 1 onion, finely chopped\\n- 3 cloves garlic, minced\\n- 1-inch piece of ginger, grated\\n- 1 can (14 oz) crushed tomatoes\\n- 1 cup heavy cream (you can use coconut cream or cashew cream for a dairy-free option)\\n- Fresh cilantro, chopped (for garnish)\\n\\n**Instructions:**\\n1. In a bowl, mix together the yogurt, lemon juice, cumin, paprika, turmeric, coriander, garam masala, chili powder, salt, and pepper. Add the vegetarian chicken pieces and coat them well with the marinade. Cover and refrigerate for at least 1 hour, or overnight for best results.\\n\\n2. In a large skillet, heat the vegetable oil over medium heat. Add the chopped onion and cook until softened, about 5 minutes. Add the garlic and ginger, and cook for another minute until fragrant.\\n\\n3. Add the marinated vegetarian chicken pieces to the skillet, along with any remaining marinade. Cook for about 5-7 minutes, stirring occasionally, until the \"chicken\" is browned on all sides.\\n\\n4. Stir in the crushed tomatoes and bring the mixture to a simmer. Cover and cook for about 15-20 minutes, or until the \"chicken\" is cooked through.\\n\\n5. Stir in the heavy cream (or dairy-free alternative) and simmer for an additional 5 minutes, stirring occasionally.\\n\\n6. Taste and adjust seasoning if needed. Serve the Vegetarian Chicken Tikka Masala over steamed rice or with naan bread. Garnish with chopped cilantro before serving.\\n\\nEnjoy your flavorful Vegetarian Chicken Tikka Masala!', additional_kwargs={}, response_metadata={'finish_reason': 'stop'}, id='run-35fb722e-8af8-436f-ba3b-39a791c4b45a-0')"
      ]
     },
     "execution_count": 9,
     "metadata": {},
     "output_type": "execute_result"
    }
   ],
   "source": [
    "veg_prompt = ChatPromptTemplate.from_messages([\n",
    "    (\"system\", \"You are a world-class vegetarian chef, specialized in making traditional recipies vegetarian.You find alternative ingredients and explain their preparation. You do not radically change the recipe. If there is no alternative for a food, just say you don't know how to replace it.\"),\n",
    "    (\"human\", \"{recipe}\")])\n",
    "\n",
    "veg_chain = veg_prompt | chat\n",
    "\n",
    "final_chain = {\"recipe\": chef_chain} | veg_chain\n",
    "\n",
    "final_chain.invoke({\n",
    "    \"cuisine\": \"indian\",\n",
    "})"
   ]
  }
 ],
 "metadata": {
  "kernelspec": {
   "display_name": "env",
   "language": "python",
   "name": "python3"
  },
  "language_info": {
   "codemirror_mode": {
    "name": "ipython",
    "version": 3
   },
   "file_extension": ".py",
   "mimetype": "text/x-python",
   "name": "python",
   "nbconvert_exporter": "python",
   "pygments_lexer": "ipython3",
   "version": "3.11.0"
  }
 },
 "nbformat": 4,
 "nbformat_minor": 2
}
